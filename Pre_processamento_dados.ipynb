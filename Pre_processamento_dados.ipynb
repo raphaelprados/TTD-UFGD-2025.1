{
  "nbformat": 4,
  "nbformat_minor": 0,
  "metadata": {
    "colab": {
      "provenance": []
    },
    "kernelspec": {
      "name": "python3",
      "display_name": "Python 3"
    },
    "language_info": {
      "name": "python"
    }
  },
  "cells": [
    {
      "cell_type": "markdown",
      "source": [
        "Importações de Bibliotecas\n",
        "\n"
      ],
      "metadata": {
        "id": "ZpC_vw1PZhiD"
      }
    },
    {
      "cell_type": "code",
      "execution_count": null,
      "metadata": {
        "collapsed": true,
        "id": "4hbp3cTrYF3n"
      },
      "outputs": [],
      "source": [
        "from sklearn.preprocessing import LabelEncoder\n",
        "import pandas as pd"
      ]
    },
    {
      "cell_type": "markdown",
      "source": [
        "Pré-Tratamento os dados (conversão de respostas em texto para valores numéricos"
      ],
      "metadata": {
        "id": "pc2g-tFcZmNL"
      }
    },
    {
      "cell_type": "code",
      "source": [
        "def create_csv(path, name):\n",
        "\n",
        "  df = pd.read_csv(path, sep=';')\n",
        "\n",
        "  # Create a LabelEncoder instance\n",
        "  label_encoder = LabelEncoder()\n",
        "\n",
        "  df['funcao']= label_encoder.fit_transform(df['funcao'])\n",
        "  df['idade_range']= label_encoder.fit_transform(df['idade_range'])\n",
        "  df['genero']= label_encoder.fit_transform(df['genero'])\n",
        "  df['nivel_academico']= label_encoder.fit_transform(df['nivel_academico'])\n",
        "  df['campo_estudo']= label_encoder.fit_transform(df['campo_estudo'])\n",
        "  df['paises']= label_encoder.fit_transform(df['paises'])\n",
        "\n",
        "  csv_name = name + \".csv\"\n",
        "\n",
        "  # Save the updated DataFrame to a new CSV\n",
        "  df.to_csv(csv_name, index=False)\n",
        "\n",
        "  return df"
      ],
      "metadata": {
        "id": "vKnPb9BSaqJC"
      },
      "execution_count": null,
      "outputs": []
    },
    {
      "cell_type": "code",
      "source": [
        "data = create_csv(path=\"./drive/MyDrive/Colab_Data/Pesquisa TTD.csv\", name=\"data\")"
      ],
      "metadata": {
        "id": "_ip_joHPbjTG"
      },
      "execution_count": null,
      "outputs": []
    }
  ]
}